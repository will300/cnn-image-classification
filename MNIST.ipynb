{
 "cells": [
  {
   "cell_type": "markdown",
   "metadata": {},
   "source": [
    "# Convolutional Neural Network for MNIST Data"
   ]
  },
  {
   "cell_type": "markdown",
   "metadata": {},
   "source": [
    "First the relevant modules are imported"
   ]
  },
  {
   "cell_type": "code",
   "execution_count": 1,
   "metadata": {},
   "outputs": [],
   "source": [
    "import tensorflow as tf\n",
    "import numpy as np\n",
    "import matplotlib.pyplot as plt"
   ]
  },
  {
   "cell_type": "markdown",
   "metadata": {},
   "source": [
    "Next, the data for training and testing is loaded and stored in the x and y variables for images and labels. The data comes from a dataset called MNIST which contains images of handwritten digits from 0-9. The loading process can be done using a tensorflow command once the MNIST dataset has been downloaded to a PC: "
   ]
  },
  {
   "cell_type": "code",
   "execution_count": 2,
   "metadata": {},
   "outputs": [
    {
     "name": "stdout",
     "output_type": "stream",
     "text": [
      "Number of training images: 60000\n",
      "Number of testing images: 10000\n"
     ]
    }
   ],
   "source": [
    "(x_train, y_train), (x_test, y_test) = tf.keras.datasets.mnist.load_data(path='mnist.npz')\n",
    "print(\"Number of training images: {}\".format(len(x_train)))\n",
    "print(\"Number of testing images: {}\".format(len(x_test)))"
   ]
  },
  {
   "cell_type": "markdown",
   "metadata": {},
   "source": [
    "The images are loaded in the form of 28 x 28 arrays with values of 0-256, which can be displayed as pixels"
   ]
  },
  {
   "cell_type": "code",
   "execution_count": 3,
   "metadata": {},
   "outputs": [
    {
     "name": "stdout",
     "output_type": "stream",
     "text": [
      "Image Class: 9\n"
     ]
    },
    {
     "data": {
      "image/png": "[encoded data removed]",
      "text/plain": [
       "<Figure size 432x288 with 1 Axes>"
      ]
     },
     "metadata": {},
     "output_type": "display_data"
    }
   ],
   "source": [
    "plt.imshow(x_train[22], cmap='gray')\n",
    "print(\"Image Class: {}\".format(y_train[22]))"
   ]
  },
  {
   "cell_type": "markdown",
   "metadata": {},
   "source": [
    "The label for each image is in the form of an integer and needs to be 'one hot encoded', where it is turned into an array of nine 0s and one 1 with the position of the 1 within the array denoting the label. For instance 9 would become [ 0, 0, 0, 0, 0, 0, 0, 0, 0, 1 ]. This is because the integers are really a categorical form of data, so it is more appropriate to predict the output in this way rather than a single floating point number between 0 and 9. "
   ]
  },
  {
   "cell_type": "code",
   "execution_count": 4,
   "metadata": {},
   "outputs": [
    {
     "name": "stderr",
     "output_type": "stream",
     "text": [
      "/home/will/yes/envs/py3/lib/python3.6/site-packages/sklearn/preprocessing/_encoders.py:363: FutureWarning: The handling of integer data will change in version 0.22. Currently, the categories are determined based on the range [0, max(values)], while in the future they will be determined based on the unique values.\n",
      "If you want the future behaviour and silence this warning, you can specify \"categories='auto'\".\n",
      "In case you used a LabelEncoder before this OneHotEncoder to convert the categories to integers, then you can now use the OneHotEncoder directly.\n",
      "  warnings.warn(msg, FutureWarning)\n"
     ]
    }
   ],
   "source": [
    "from sklearn.preprocessing import OneHotEncoder\n",
    "\n",
    "one_hot_encoder = OneHotEncoder(sparse=False)\n",
    "y_train = y_train.reshape(len(y_train), 1)\n",
    "\n",
    "y_train_one_hot = one_hot_encoder.fit_transform(y_train)"
   ]
  },
  {
   "cell_type": "markdown",
   "metadata": {},
   "source": [
    "Tensorflow placeholder tensors are created, which are empty tensors with dimensions ready to receive tensors. One receives batches of input images, one their corresponding labels, and the other the learning rate of the CNN. This is the most useful way of including changeable tensors in a Tensorflow program. The None dimension is included so that different sizes of image batches can be fed into the network in one go."
   ]
  },
  {
   "cell_type": "code",
   "execution_count": 5,
   "metadata": {},
   "outputs": [],
   "source": [
    "def build_inputs():\n",
    "\n",
    "    input_tensor = tf.placeholder(tf.float32, (None, 28, 28, 1))\n",
    "    output_labels = tf.placeholder(tf.float32, (None, 10))\n",
    "    learning_rate = tf.placeholder(tf.float32)\n",
    "    \n",
    "    return (input_tensor, output_labels, learning_rate)"
   ]
  },
  {
   "cell_type": "markdown",
   "metadata": {},
   "source": [
    "Functions are written separately to build the structure of the network, calculate the loss function at the output, and define the optimizer algorithm. This architecture was chosen arbitrarily and will need refining for a more complex data set, although it does use a general rule of decreasing the height and width of layers from input to output while increasing the depth. The filters in each layer have dimensions 5 x 5, and they are moved over the previous layer with a stride length of 2. The number of filters increases from 32 in the first layer to 64 in the next and then 128. Relu activation functions and batch normalization are used on the outputs of individual layers to allow the network to generalize to different data better and improve training. The last convolutional layer is flattened and connected to a dense fully connected layer with 10 output nodes for the 10 categories."
   ]
  },
  {
   "cell_type": "code",
   "execution_count": 6,
   "metadata": {},
   "outputs": [],
   "source": [
    "def build_cnn(input_tensor, reuse=None):\n",
    "    \n",
    "    with tf.variable_scope('network', reuse=reuse):\n",
    "    \n",
    "        # Tensor size: 28x28\n",
    "        input_layer = tf.layers.conv2d(input_tensor, 32, 5, 2, padding='same')\n",
    "        input_layer = tf.nn.relu(input_layer)\n",
    "    \n",
    "        # Tensor size: 14x14\n",
    "        hidden_layer_1 = tf.layers.conv2d(input_layer, 64, 5, 2, padding='same')\n",
    "        hidden_layer_1 = tf.layers.batch_normalization(hidden_layer_1, training=True)\n",
    "        hidden_layer_1 = tf.nn.relu(hidden_layer_1)\n",
    "    \n",
    "        # Tensor size: 7x7\n",
    "        hidden_layer_2 = tf.layers.conv2d(hidden_layer_1, 128, 5, 2, padding='same')\n",
    "        hidden_layer_2 = tf.layers.batch_normalization(hidden_layer_2, training=True)\n",
    "        hidden_layer_2 = tf.nn.relu(hidden_layer_2)\n",
    "    \n",
    "        # Tensor size: 4x4\n",
    "        flat_layer = tf.reshape(hidden_layer_2, (-1, 4*4*128))\n",
    "    \n",
    "        output_layer = tf.layers.dense(flat_layer, 10)\n",
    "        logits = output_layer\n",
    "        output = tf.sigmoid(logits)\n",
    "        \n",
    "    return logits, output\n",
    "    "
   ]
  },
  {
   "cell_type": "markdown",
   "metadata": {},
   "source": [
    "The loss function uses cross entropy loss after taking sigmoid values of the logits to return them as probabilities between 0 and 1."
   ]
  },
  {
   "cell_type": "code",
   "execution_count": 7,
   "metadata": {},
   "outputs": [],
   "source": [
    "def build_loss(logits, labels):\n",
    "    \n",
    "    loss = tf.reduce_mean(tf.nn.sigmoid_cross_entropy_with_logits(logits=logits, labels=labels))\n",
    "    \n",
    "    return loss\n",
    "    "
   ]
  },
  {
   "cell_type": "markdown",
   "metadata": {},
   "source": [
    "The optimizer function uses an Adam algorithm for backpropagation. The optimizer is preceded by a control dependencies command in order to allow the batch normalization process to update population statistics on each iteration."
   ]
  },
  {
   "cell_type": "code",
   "execution_count": 8,
   "metadata": {},
   "outputs": [],
   "source": [
    "def build_optimizer(loss, learning_rate):\n",
    "    \n",
    "    train_vars = tf.trainable_variables()\n",
    "    params = [var for var in train_vars if var.name.startswith('network')]\n",
    "    \n",
    "    ops = tf.get_collection(tf.GraphKeys.UPDATE_OPS)\n",
    "    upd = [op for op in ops if op.name.startswith('network')]\n",
    "    \n",
    "    with tf.control_dependencies(upd):\n",
    "        optimizer = tf.train.AdamOptimizer(learning_rate).minimize(loss=loss, var_list=params)\n",
    "    \n",
    "    return optimizer"
   ]
  },
  {
   "cell_type": "markdown",
   "metadata": {},
   "source": [
    "The train function calls the each of the previous functions. During each batch iteration, batches of images and labels are fed into the respective placeholder tensors inside the sess.run method. At the end of the training process all of the trained weights within the network are saved."
   ]
  },
  {
   "cell_type": "code",
   "execution_count": 9,
   "metadata": {},
   "outputs": [],
   "source": [
    "def train(input_features, input_labels, epoch_count, batch_size, learn_rate):\n",
    "    \n",
    "    input_tensor, output_labels, learning_rate = build_inputs()\n",
    "    logits, output = build_cnn(input_tensor)\n",
    "    loss = build_loss(logits, output_labels)\n",
    "    opt = build_optimizer(loss, learn_rate)\n",
    "    \n",
    "    saver = tf.train.Saver()\n",
    "    with tf.Session() as sess:\n",
    "        \n",
    "        sess.run(tf.global_variables_initializer())\n",
    "        steps = 0\n",
    "        \n",
    "        for current_epoch in range(epoch_count):\n",
    "            \n",
    "            for current_batch in range(int(len(input_features)/batch_size)):\n",
    "                \n",
    "                batch_images = input_features[current_batch * batch_size : current_batch * batch_size + batch_size, :, :]\n",
    "                batch_images = np.reshape(batch_images, (batch_size, 28, 28, 1))\n",
    "                batch_labels = input_labels[current_batch * batch_size : current_batch * batch_size + batch_size, :]\n",
    "                \n",
    "                steps += 1\n",
    "                \n",
    "                _ = sess.run(opt, feed_dict={input_tensor: batch_images, output_labels: batch_labels, learning_rate: learn_rate})\n",
    "            \n",
    "                if steps % 100 == 0:\n",
    "                    current_loss = loss.eval({input_tensor: batch_images, output_labels: batch_labels})\n",
    "                    print(\"Current epoch: {}/{}\".format(current_epoch + 1, epoch_count))\n",
    "                    print(\"Current loss: {}\".format(current_loss))\n",
    "        \n",
    "        saver.save(sess, \"/tmp/model.ckpt\")           "
   ]
  },
  {
   "cell_type": "code",
   "execution_count": 10,
   "metadata": {},
   "outputs": [
    {
     "name": "stdout",
     "output_type": "stream",
     "text": [
      "Current epoch: 1/1\n",
      "Current loss: 0.08731301873922348\n",
      "Current epoch: 1/1\n",
      "Current loss: 0.04341135546565056\n",
      "Current epoch: 1/1\n",
      "Current loss: 0.06348304450511932\n",
      "Current epoch: 1/1\n",
      "Current loss: 0.061525214463472366\n",
      "Current epoch: 1/1\n",
      "Current loss: 0.04595217853784561\n",
      "Current epoch: 1/1\n",
      "Current loss: 0.030772468075156212\n",
      "Current epoch: 1/1\n",
      "Current loss: 0.013633126392960548\n",
      "Current epoch: 1/1\n",
      "Current loss: 0.017124151811003685\n",
      "Current epoch: 1/1\n",
      "Current loss: 0.04435595124959946\n",
      "Current epoch: 1/1\n",
      "Current loss: 0.016151878982782364\n",
      "Current epoch: 1/1\n",
      "Current loss: 0.013212062418460846\n",
      "Current epoch: 1/1\n",
      "Current loss: 0.047010842710733414\n",
      "Current epoch: 1/1\n",
      "Current loss: 0.014372485689818859\n",
      "Current epoch: 1/1\n",
      "Current loss: 0.007781213615089655\n",
      "Current epoch: 1/1\n",
      "Current loss: 0.006052855867892504\n",
      "Current epoch: 1/1\n",
      "Current loss: 0.01439860463142395\n",
      "Current epoch: 1/1\n",
      "Current loss: 0.012702465057373047\n",
      "Current epoch: 1/1\n",
      "Current loss: 0.006778703071177006\n"
     ]
    }
   ],
   "source": [
    "epoch_count = 1\n",
    "batch_size = 32\n",
    "learning_rate = 0.0001\n",
    "\n",
    "train_graph = tf.Graph()\n",
    "\n",
    "with train_graph.as_default():\n",
    "    train(x_train, y_train_one_hot, epoch_count, batch_size, learning_rate)"
   ]
  },
  {
   "cell_type": "markdown",
   "metadata": {},
   "source": [
    "The following function loads the trained weights from file, feeds a test image into the network and classifies it."
   ]
  },
  {
   "cell_type": "code",
   "execution_count": 14,
   "metadata": {},
   "outputs": [],
   "source": [
    "def classify(input_data):\n",
    "    \n",
    "    input_tensor, output_labels, learning_rate = build_inputs()\n",
    "    \n",
    "    saver = tf.train.Saver()\n",
    "    with tf.Session(graph=train_graph) as sess:\n",
    "        \n",
    "        saver.restore(sess, \"/tmp/model.ckpt\")\n",
    "        \n",
    "        logits, output = build_cnn(input_tensor, reuse=True)\n",
    "        test_image = np.reshape(input_data, (1, 28, 28, 1))\n",
    "        current_output = output.eval({input_tensor:test_image})\n",
    "    \n",
    "        plt.imshow(input_data, cmap='gray')\n",
    "        print(\"Predicted Image Class: {}\".format(np.argmax(current_output)))  \n",
    "        "
   ]
  },
  {
   "cell_type": "code",
   "execution_count": 41,
   "metadata": {},
   "outputs": [
    {
     "name": "stdout",
     "output_type": "stream",
     "text": [
      "INFO:tensorflow:Restoring parameters from /tmp/model.ckpt\n",
      "Predicted Image Class: 9\n"
     ]
    },
    {
     "data": {
      "image/png": "[encoded data removed]",
      "text/plain": [
       "<Figure size 432x288 with 1 Axes>"
      ]
     },
     "metadata": {},
     "output_type": "display_data"
    }
   ],
   "source": [
    "# Enter an integer between 1 and 10000 corresponding to the image in the testing set to be classified\n",
    "integer = 3492\n",
    "\n",
    "\n",
    "data_point_index = integer - 1\n",
    "input_data = x_test[data_point_index]\n",
    "\n",
    "with train_graph.as_default():\n",
    "    classify(input_data)\n",
    "        "
   ]
  },
  {
   "cell_type": "markdown",
   "metadata": {},
   "source": [
    "The following function calculates the accuracy of the model"
   ]
  },
  {
   "cell_type": "code",
   "execution_count": 46,
   "metadata": {},
   "outputs": [],
   "source": [
    "def model_accuracy(x_test, y_test):\n",
    "    \n",
    "    input_tensor, output_labels, learning_rate = build_inputs()\n",
    "    \n",
    "    saver = tf.train.Saver()\n",
    "    with tf.Session(graph=train_graph) as sess:\n",
    "        \n",
    "        saver.restore(sess, \"/tmp/model.ckpt\")\n",
    "        \n",
    "        logits, output = build_cnn(input_tensor, reuse=True)\n",
    "\n",
    "        correct = 0\n",
    "\n",
    "        for test_image, test_label in zip(x_test, y_test):\n",
    "            input_data = np.reshape(test_image, (1, 28, 28, 1))\n",
    "            current_output = output.eval({input_tensor:input_data})\n",
    "            class_ = np.argmax(current_output)   \n",
    "            if class_ == test_label:\n",
    "                correct += 1\n",
    "        \n",
    "        accuracy = correct / len(x_test)\n",
    "        print(\"Model accuracy: {}\".format(accuracy))\n",
    "    "
   ]
  },
  {
   "cell_type": "code",
   "execution_count": 47,
   "metadata": {},
   "outputs": [
    {
     "name": "stdout",
     "output_type": "stream",
     "text": [
      "INFO:tensorflow:Restoring parameters from /tmp/model.ckpt\n",
      "Model accuracy: 0.9759\n"
     ]
    }
   ],
   "source": [
    "# Find the accuracy of this particular model \n",
    "with train_graph.as_default():\n",
    "    model_accuracy(x_test, y_test)"
   ]
  }
 ],
 "metadata": {
  "kernelspec": {
   "display_name": "Python [conda env:py3]",
   "language": "python",
   "name": "conda-env-py3-py"
  },
  "language_info": {
   "codemirror_mode": {
    "name": "ipython",
    "version": 3
   },
   "file_extension": ".py",
   "mimetype": "text/x-python",
   "name": "python",
   "nbconvert_exporter": "python",
   "pygments_lexer": "ipython3",
   "version": "3.6.6"
  }
 },
 "nbformat": 4,
 "nbformat_minor": 2
}
